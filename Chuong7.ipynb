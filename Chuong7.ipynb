{
  "nbformat": 4,
  "nbformat_minor": 0,
  "metadata": {
    "colab": {
      "name": "Untitled0.ipynb",
      "provenance": [],
      "collapsed_sections": [],
      "authorship_tag": "ABX9TyO7ahpod20nTKcS+VkeXM/Q",
      "include_colab_link": true
    },
    "kernelspec": {
      "name": "python3",
      "display_name": "Python 3"
    },
    "language_info": {
      "name": "python"
    }
  },
  "cells": [
    {
      "cell_type": "markdown",
      "metadata": {
        "id": "view-in-github",
        "colab_type": "text"
      },
      "source": [
        "<a href=\"https://colab.research.google.com/github/QuanDieu/Kiemthutudong/blob/main/Chuong7.ipynb\" target=\"_parent\"><img src=\"https://colab.research.google.com/assets/colab-badge.svg\" alt=\"Open In Colab\"/></a>"
      ]
    },
    {
      "cell_type": "code",
      "metadata": {
        "colab": {
          "base_uri": "https://localhost:8080/",
          "height": 35
        },
        "id": "JWxU-N4Qxxn-",
        "outputId": "eb3aeeb4-2845-4b39-ab78-20f4e52aa5fb"
      },
      "source": [
        "'hello'.upper() "
      ],
      "execution_count": 1,
      "outputs": [
        {
          "output_type": "execute_result",
          "data": {
            "application/vnd.google.colaboratory.intrinsic+json": {
              "type": "string"
            },
            "text/plain": [
              "'HELLO'"
            ]
          },
          "metadata": {},
          "execution_count": 1
        }
      ]
    },
    {
      "cell_type": "code",
      "metadata": {
        "colab": {
          "base_uri": "https://localhost:8080/",
          "height": 35
        },
        "id": "zmIxfy6hycR7",
        "outputId": "37296a8b-e672-475d-cd21-df0c21227142"
      },
      "source": [
        "'Happy Birthday!'.lower() "
      ],
      "execution_count": 2,
      "outputs": [
        {
          "output_type": "execute_result",
          "data": {
            "application/vnd.google.colaboratory.intrinsic+json": {
              "type": "string"
            },
            "text/plain": [
              "'happy birthday!'"
            ]
          },
          "metadata": {},
          "execution_count": 2
        }
      ]
    },
    {
      "cell_type": "code",
      "metadata": {
        "colab": {
          "base_uri": "https://localhost:8080/"
        },
        "id": "3Rea9UNbygrp",
        "outputId": "0323173a-8c39-4fb0-9d05-0d77edc88636"
      },
      "source": [
        "'ABC123'.isupper() "
      ],
      "execution_count": 3,
      "outputs": [
        {
          "output_type": "execute_result",
          "data": {
            "text/plain": [
              "True"
            ]
          },
          "metadata": {},
          "execution_count": 3
        }
      ]
    },
    {
      "cell_type": "code",
      "metadata": {
        "colab": {
          "base_uri": "https://localhost:8080/"
        },
        "id": "A0pvZLrZyopW",
        "outputId": "a03f0996-9838-45eb-cc29-882aadb1b6f5"
      },
      "source": [
        "'aeiouAEIOU'.count('a') "
      ],
      "execution_count": 4,
      "outputs": [
        {
          "output_type": "execute_result",
          "data": {
            "text/plain": [
              "1"
            ]
          },
          "metadata": {},
          "execution_count": 4
        }
      ]
    },
    {
      "cell_type": "code",
      "metadata": {
        "colab": {
          "base_uri": "https://localhost:8080/"
        },
        "id": "PrvLSvOHyqZ2",
        "outputId": "6724055d-748e-4d4a-a428-73f9b165fbfc"
      },
      "source": [
        "'hello'.endswith('o') "
      ],
      "execution_count": 5,
      "outputs": [
        {
          "output_type": "execute_result",
          "data": {
            "text/plain": [
              "True"
            ]
          },
          "metadata": {},
          "execution_count": 5
        }
      ]
    },
    {
      "cell_type": "code",
      "metadata": {
        "colab": {
          "base_uri": "https://localhost:8080/"
        },
        "id": "CC6c9HNwysrB",
        "outputId": "afb5ffd5-319d-464d-c5c8-e060a50cee48"
      },
      "source": [
        "'hello'.startswith('H') "
      ],
      "execution_count": 6,
      "outputs": [
        {
          "output_type": "execute_result",
          "data": {
            "text/plain": [
              "False"
            ]
          },
          "metadata": {},
          "execution_count": 6
        }
      ]
    },
    {
      "cell_type": "code",
      "metadata": {
        "colab": {
          "base_uri": "https://localhost:8080/",
          "height": 35
        },
        "id": "LbDMGKt7zAKg",
        "outputId": "ce815af5-64c7-422e-a4f5-da1275f1dbe9"
      },
      "source": [
        "'Hello {0}'.format('Python') "
      ],
      "execution_count": 7,
      "outputs": [
        {
          "output_type": "execute_result",
          "data": {
            "application/vnd.google.colaboratory.intrinsic+json": {
              "type": "string"
            },
            "text/plain": [
              "'Hello Python'"
            ]
          },
          "metadata": {},
          "execution_count": 7
        }
      ]
    },
    {
      "cell_type": "code",
      "metadata": {
        "colab": {
          "base_uri": "https://localhost:8080/",
          "height": 35
        },
        "id": "POg3NFQLzDH8",
        "outputId": "b1147fe3-75c2-48a6-ed2b-f8e0a7036332"
      },
      "source": [
        "'Hello {0}! Hello {1}!'.format('Python', 'World')"
      ],
      "execution_count": 8,
      "outputs": [
        {
          "output_type": "execute_result",
          "data": {
            "application/vnd.google.colaboratory.intrinsic+json": {
              "type": "string"
            },
            "text/plain": [
              "'Hello Python! Hello World!'"
            ]
          },
          "metadata": {},
          "execution_count": 8
        }
      ]
    },
    {
      "cell_type": "code",
      "metadata": {
        "colab": {
          "base_uri": "https://localhost:8080/"
        },
        "id": "yzOxjUuPzTad",
        "outputId": "a1ff1489-9d75-4595-b2a2-34eb280ce521"
      },
      "source": [
        "'tomato'.count('o')"
      ],
      "execution_count": 9,
      "outputs": [
        {
          "output_type": "execute_result",
          "data": {
            "text/plain": [
              "2"
            ]
          },
          "metadata": {},
          "execution_count": 9
        }
      ]
    },
    {
      "cell_type": "code",
      "metadata": {
        "colab": {
          "base_uri": "https://localhost:8080/"
        },
        "id": "PuE2kNphzWvw",
        "outputId": "69cb646d-96b7-4534-efb7-2ad136be6c7a"
      },
      "source": [
        "'tomato'.find('o')"
      ],
      "execution_count": 10,
      "outputs": [
        {
          "output_type": "execute_result",
          "data": {
            "text/plain": [
              "1"
            ]
          },
          "metadata": {},
          "execution_count": 10
        }
      ]
    },
    {
      "cell_type": "code",
      "metadata": {
        "colab": {
          "base_uri": "https://localhost:8080/"
        },
        "id": "MfelRz97zZnb",
        "outputId": "251175f0-cdf6-41ec-ec99-ed82d757547e"
      },
      "source": [
        "'tomato'.find('o', 'tomato'.find('o') + 1)"
      ],
      "execution_count": 11,
      "outputs": [
        {
          "output_type": "execute_result",
          "data": {
            "text/plain": [
              "5"
            ]
          },
          "metadata": {},
          "execution_count": 11
        }
      ]
    },
    {
      "cell_type": "code",
      "metadata": {
        "colab": {
          "base_uri": "https://localhost:8080/"
        },
        "id": "8aaMTzhwzcfA",
        "outputId": "2f34bf3a-c4de-43fd-969d-0047ce6268db"
      },
      "source": [
        "'avocado'.find('o', 'avocado'.find('o') + 1)"
      ],
      "execution_count": 12,
      "outputs": [
        {
          "output_type": "execute_result",
          "data": {
            "text/plain": [
              "6"
            ]
          },
          "metadata": {},
          "execution_count": 12
        }
      ]
    },
    {
      "cell_type": "code",
      "metadata": {
        "colab": {
          "base_uri": "https://localhost:8080/",
          "height": 35
        },
        "id": "vLr0L9V9zeNH",
        "outputId": "63b15920-f929-4560-901f-65219135d6f5"
      },
      "source": [
        "'runner'.replace('n','b')"
      ],
      "execution_count": 13,
      "outputs": [
        {
          "output_type": "execute_result",
          "data": {
            "application/vnd.google.colaboratory.intrinsic+json": {
              "type": "string"
            },
            "text/plain": [
              "'rubber'"
            ]
          },
          "metadata": {},
          "execution_count": 13
        }
      ]
    },
    {
      "cell_type": "code",
      "metadata": {
        "id": "k2YLJiWfzy_-"
      },
      "source": [
        "strip"
      ],
      "execution_count": null,
      "outputs": []
    },
    {
      "cell_type": "code",
      "metadata": {
        "id": "PcYMc1eVzxkZ"
      },
      "source": [
        "fruit = 'pineapple'\n",
        "fruit.count('p') then fruit.find('p', 3)"
      ],
      "execution_count": null,
      "outputs": []
    },
    {
      "cell_type": "code",
      "metadata": {
        "id": "eYtwTU5ozz8G"
      },
      "source": [
        "fruit = 'pineapple'\n",
        "fruit.upper() then 'PINEAPPLE'.swapcase() then fruit.count('pineapple') "
      ],
      "execution_count": null,
      "outputs": []
    },
    {
      "cell_type": "code",
      "metadata": {
        "id": "cJOajYLGz3RV"
      },
      "source": [
        "fruit = 'pineapple'\n",
        "fruit.swapcase() then fruit.lower() then fruit.replace('PINEAPPLE', 'pineapple')"
      ],
      "execution_count": null,
      "outputs": []
    },
    {
      "cell_type": "code",
      "metadata": {
        "colab": {
          "base_uri": "https://localhost:8080/",
          "height": 35
        },
        "id": "-IkFabA_z6n7",
        "outputId": "93996edd-3588-4a5e-c80e-7cd91436dd42"
      },
      "source": [
        "season = 'summer'\n",
        "'I love {0}!'.format(season)"
      ],
      "execution_count": 18,
      "outputs": [
        {
          "output_type": "execute_result",
          "data": {
            "application/vnd.google.colaboratory.intrinsic+json": {
              "type": "string"
            },
            "text/plain": [
              "'I love summer!'"
            ]
          },
          "metadata": {},
          "execution_count": 18
        }
      ]
    },
    {
      "cell_type": "code",
      "metadata": {
        "id": "FY94y34bz-l-"
      },
      "source": [
        "side1 = 3\n",
        "side2 = 4\n",
        "side3 = 5\n",
        "'The sides have lengths {0}, {1}, and {2}.'.format(side1, side2, side3)"
      ],
      "execution_count": null,
      "outputs": []
    },
    {
      "cell_type": "code",
      "metadata": {
        "colab": {
          "base_uri": "https://localhost:8080/",
          "height": 35
        },
        "id": "yen1f77v0B4p",
        "outputId": "23a79e23-c6e8-4c52-c6a0-0c91622ffa7c"
      },
      "source": [
        "'boolean'.capitalize()"
      ],
      "execution_count": 19,
      "outputs": [
        {
          "output_type": "execute_result",
          "data": {
            "application/vnd.google.colaboratory.intrinsic+json": {
              "type": "string"
            },
            "text/plain": [
              "'Boolean'"
            ]
          },
          "metadata": {},
          "execution_count": 19
        }
      ]
    },
    {
      "cell_type": "code",
      "metadata": {
        "colab": {
          "base_uri": "https://localhost:8080/"
        },
        "id": "245aIwiY0kKO",
        "outputId": "ff7a3520-f231-4ebf-fbd9-db68d1c323b1"
      },
      "source": [
        "'CO2 H2O'.find('2')"
      ],
      "execution_count": 20,
      "outputs": [
        {
          "output_type": "execute_result",
          "data": {
            "text/plain": [
              "2"
            ]
          },
          "metadata": {},
          "execution_count": 20
        }
      ]
    },
    {
      "cell_type": "code",
      "metadata": {
        "colab": {
          "base_uri": "https://localhost:8080/"
        },
        "id": "hrkN4OPl0l8G",
        "outputId": "e694bc8c-f564-48c1-a2bb-b8098da3487c"
      },
      "source": [
        "'CO2 H2O'.find('2', 'CO2 H2O'.find('2') + 1)"
      ],
      "execution_count": 21,
      "outputs": [
        {
          "output_type": "execute_result",
          "data": {
            "text/plain": [
              "5"
            ]
          },
          "metadata": {},
          "execution_count": 21
        }
      ]
    },
    {
      "cell_type": "code",
      "metadata": {
        "colab": {
          "base_uri": "https://localhost:8080/"
        },
        "id": "Axn8hJFK0oHa",
        "outputId": "05234608-85e5-476a-acb0-e93a66689c3f"
      },
      "source": [
        "'Boolean'[0].islower()"
      ],
      "execution_count": 22,
      "outputs": [
        {
          "output_type": "execute_result",
          "data": {
            "text/plain": [
              "False"
            ]
          },
          "metadata": {},
          "execution_count": 22
        }
      ]
    },
    {
      "cell_type": "code",
      "metadata": {
        "colab": {
          "base_uri": "https://localhost:8080/",
          "height": 35
        },
        "id": "GRPGXTp00rUE",
        "outputId": "6465653b-55ce-4fb2-8883-64d7c3ade7c4"
      },
      "source": [
        "'MoNDaY'.lower().capitalize()"
      ],
      "execution_count": 27,
      "outputs": [
        {
          "output_type": "execute_result",
          "data": {
            "application/vnd.google.colaboratory.intrinsic+json": {
              "type": "string"
            },
            "text/plain": [
              "'Monday'"
            ]
          },
          "metadata": {},
          "execution_count": 27
        }
      ]
    },
    {
      "cell_type": "code",
      "metadata": {
        "colab": {
          "base_uri": "https://localhost:8080/",
          "height": 35
        },
        "id": "M-JSbr7u0tH3",
        "outputId": "feb9f19d-d707-4243-b62b-058739c47807"
      },
      "source": [
        "' Monday'.lstrip()"
      ],
      "execution_count": 26,
      "outputs": [
        {
          "output_type": "execute_result",
          "data": {
            "application/vnd.google.colaboratory.intrinsic+json": {
              "type": "string"
            },
            "text/plain": [
              "'Monday'"
            ]
          },
          "metadata": {},
          "execution_count": 26
        }
      ]
    },
    {
      "cell_type": "code",
      "metadata": {
        "colab": {
          "base_uri": "https://localhost:8080/"
        },
        "id": "4cIWGxR80ula",
        "outputId": "c006d3c0-68c6-43c1-f018-e5e91dfbd55e"
      },
      "source": [
        "def total_occurrences(s1, s2, ch):  \n",
        "  return s1.count(ch) + s2.count(ch)\n",
        "total_occurrences('color', 'yellow', 'l') "
      ],
      "execution_count": 25,
      "outputs": [
        {
          "output_type": "execute_result",
          "data": {
            "text/plain": [
              "3"
            ]
          },
          "metadata": {},
          "execution_count": 25
        }
      ]
    },
    {
      "cell_type": "code",
      "metadata": {
        "colab": {
          "base_uri": "https://localhost:8080/"
        },
        "id": "cBkZg3ok0xQl",
        "outputId": "c241c96e-b132-4b74-9054-68304cbc4ff3"
      },
      "source": [
        "def total_occurrences(s1, s2, ch):  \n",
        "  return s1.count(ch) + s2.count(ch)\n",
        "total_occurrences('red', 'blue', 'l') "
      ],
      "execution_count": 24,
      "outputs": [
        {
          "output_type": "execute_result",
          "data": {
            "text/plain": [
              "1"
            ]
          },
          "metadata": {},
          "execution_count": 24
        }
      ]
    },
    {
      "cell_type": "code",
      "metadata": {
        "colab": {
          "base_uri": "https://localhost:8080/"
        },
        "id": "99K_gKPh1blX",
        "outputId": "6b91baf4-e68d-4c33-903e-5b4bce01ca50"
      },
      "source": [
        "def total_occurrences(s1, s2, ch):  \n",
        "  return s1.count(ch) + s2.count(ch)\n",
        "total_occurrences('green', 'purple', 'b')"
      ],
      "execution_count": 23,
      "outputs": [
        {
          "output_type": "execute_result",
          "data": {
            "text/plain": [
              "0"
            ]
          },
          "metadata": {},
          "execution_count": 23
        }
      ]
    }
  ]
}